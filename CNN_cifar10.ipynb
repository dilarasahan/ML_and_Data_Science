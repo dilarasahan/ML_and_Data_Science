{
  "nbformat": 4,
  "nbformat_minor": 0,
  "metadata": {
    "colab": {
      "name": "CNN_cifar10",
      "provenance": []
    },
    "kernelspec": {
      "name": "python3",
      "display_name": "Python 3"
    },
    "language_info": {
      "name": "python"
    }
  },
  "cells": [
    {
      "cell_type": "code",
      "metadata": {
        "id": "jFa7uYFhYgRS"
      },
      "source": [
        "import keras \n",
        "import tensorflow as tf\n",
        "import pandas as pd\n",
        "import numpy as np\n",
        "import matplotlib.pyplot as plt\n"
      ],
      "execution_count": 30,
      "outputs": []
    },
    {
      "cell_type": "code",
      "metadata": {
        "id": "Sf6uAmQuaRYN"
      },
      "source": [
        "(x_train, y_train), (x_test, y_test) = tf.keras.datasets.cifar10.load_data()"
      ],
      "execution_count": 31,
      "outputs": []
    },
    {
      "cell_type": "code",
      "metadata": {
        "colab": {
          "base_uri": "https://localhost:8080/",
          "height": 283
        },
        "id": "mtD7M-FZa7zD",
        "outputId": "3d2794c0-98fe-4973-91a8-d7610d241efb"
      },
      "source": [
        "plt.imshow(x_train[4])\n"
      ],
      "execution_count": 32,
      "outputs": [
        {
          "output_type": "execute_result",
          "data": {
            "text/plain": [
              "<matplotlib.image.AxesImage at 0x7f74296966d0>"
            ]
          },
          "metadata": {
            "tags": []
          },
          "execution_count": 32
        },
        {
          "output_type": "display_data",
          "data": {
            "image/png": "[encoded data removed]",
            "text/plain": [
              "<Figure size 432x288 with 1 Axes>"
            ]
          },
          "metadata": {
            "tags": [],
            "needs_background": "light"
          }
        }
      ]
    },
    {
      "cell_type": "code",
      "metadata": {
        "colab": {
          "base_uri": "https://localhost:8080/"
        },
        "id": "pqH2DenRdxYM",
        "outputId": "8dbf0857-6aae-4fd0-823f-d975b3123a71"
      },
      "source": [
        "x_train.shape"
      ],
      "execution_count": 33,
      "outputs": [
        {
          "output_type": "execute_result",
          "data": {
            "text/plain": [
              "(50000, 32, 32, 3)"
            ]
          },
          "metadata": {
            "tags": []
          },
          "execution_count": 33
        }
      ]
    },
    {
      "cell_type": "code",
      "metadata": {
        "id": "GIJ2UCIMikfy"
      },
      "source": [
        "x_train = x_train / 255.0\n",
        "x_test = x_test / 255.0   #normalization"
      ],
      "execution_count": 34,
      "outputs": []
    },
    {
      "cell_type": "code",
      "metadata": {
        "colab": {
          "base_uri": "https://localhost:8080/"
        },
        "id": "Aw8gkqkftTG8",
        "outputId": "38609364-870c-451e-ded6-ccfb6f2554fc"
      },
      "source": [
        "np.unique(y_train)"
      ],
      "execution_count": 35,
      "outputs": [
        {
          "output_type": "execute_result",
          "data": {
            "text/plain": [
              "array([0, 1, 2, 3, 4, 5, 6, 7, 8, 9], dtype=uint8)"
            ]
          },
          "metadata": {
            "tags": []
          },
          "execution_count": 35
        }
      ]
    },
    {
      "cell_type": "code",
      "metadata": {
        "id": "NPH6uagisCTv"
      },
      "source": [
        "from keras.utils.np_utils import to_categorical            ## one hot encoding \n",
        "y_train = to_categorical(y_train, num_classes = 10)"
      ],
      "execution_count": 36,
      "outputs": []
    },
    {
      "cell_type": "code",
      "metadata": {
        "id": "RyfsVoMai_gB"
      },
      "source": [
        "from sklearn.metrics import confusion_matrix\n",
        "import itertools\n",
        "from keras.layers import Dense, Dropout, Flatten, Conv2D, MaxPool2D\n",
        "from keras.optimizers import RMSprop , Adam\n",
        "from keras.preprocessing.image import ImageDataGenerator\n",
        "from keras.callbacks import ReduceLROnPlateau\n",
        "from keras.utils.np_utils import to_categorical\n",
        "from keras.models import Sequential"
      ],
      "execution_count": 37,
      "outputs": []
    },
    {
      "cell_type": "code",
      "metadata": {
        "id": "3L94s5TquLYH"
      },
      "source": [
        "model = Sequential()"
      ],
      "execution_count": 38,
      "outputs": []
    },
    {
      "cell_type": "code",
      "metadata": {
        "id": "hqtfFKOruVBv"
      },
      "source": [
        "model.add(Conv2D(filters = 8, kernel_size = (5,5), padding= 'Same', \n",
        "                 activation = 'relu', input_shape = (32, 32, 3)))\n",
        "model.add(MaxPool2D(pool_size= (2,2)))\n",
        "model.add(Dropout(0.25))\n",
        "\n",
        "\n",
        "model.add(Conv2D(filters = 16, kernel_size = (3,3), padding= 'Same', \n",
        "                 activation = 'relu'))\n",
        "model.add(MaxPool2D(pool_size = (2,2),strides=(2,2)))\n",
        "model.add(Dropout(0.25))\n",
        "\n",
        "## Fully connected\n",
        "model.add(Flatten())\n",
        "model.add(Dense(256, activation = 'relu')) ## first hidden layer\n",
        "model.add(Dropout(0.5))\n",
        "model.add(Dense(10, activation= 'softmax')) # output layer   ## softmax multiclass classification \n"
      ],
      "execution_count": 39,
      "outputs": []
    },
    {
      "cell_type": "code",
      "metadata": {
        "id": "p_WxyDH5rnI8"
      },
      "source": [
        "optimizer = Adam(lr = 0.001 , beta_1 = 0.9 , beta_2 = 0.999) "
      ],
      "execution_count": 41,
      "outputs": []
    },
    {
      "cell_type": "code",
      "metadata": {
        "id": "v45hD5lQtOim"
      },
      "source": [
        "model.compile(optimizer = optimizer, loss= 'categorical_crossentropy', metrics = ['accuracy'])"
      ],
      "execution_count": 42,
      "outputs": []
    },
    {
      "cell_type": "code",
      "metadata": {
        "id": "jOEowFZVtSAl",
        "colab": {
          "base_uri": "https://localhost:8080/"
        },
        "outputId": "9328cf24-82ec-4979-d0a0-495219a04e86"
      },
      "source": [
        "epochs = 10\n",
        "\n",
        "model.fit(x_train, y_train,\n",
        "          epochs= epochs)\n"
      ],
      "execution_count": 44,
      "outputs": [
        {
          "output_type": "stream",
          "text": [
            "Epoch 1/10\n",
            "1563/1563 [==============================] - 50s 32ms/step - loss: 1.2794 - accuracy: 0.5451\n",
            "Epoch 2/10\n",
            "1563/1563 [==============================] - 50s 32ms/step - loss: 1.2562 - accuracy: 0.5537\n",
            "Epoch 3/10\n",
            "1563/1563 [==============================] - 50s 32ms/step - loss: 1.2265 - accuracy: 0.5623\n",
            "Epoch 4/10\n",
            "1563/1563 [==============================] - 50s 32ms/step - loss: 1.2057 - accuracy: 0.5716\n",
            "Epoch 5/10\n",
            "1563/1563 [==============================] - 50s 32ms/step - loss: 1.1869 - accuracy: 0.5782\n",
            "Epoch 6/10\n",
            "1563/1563 [==============================] - 50s 32ms/step - loss: 1.1732 - accuracy: 0.5834\n",
            "Epoch 7/10\n",
            "1563/1563 [==============================] - 50s 32ms/step - loss: 1.1596 - accuracy: 0.5904\n",
            "Epoch 8/10\n",
            "1563/1563 [==============================] - 50s 32ms/step - loss: 1.1394 - accuracy: 0.5951\n",
            "Epoch 9/10\n",
            "1563/1563 [==============================] - 50s 32ms/step - loss: 1.1280 - accuracy: 0.6017\n",
            "Epoch 10/10\n",
            "1563/1563 [==============================] - 50s 32ms/step - loss: 1.1259 - accuracy: 0.6022\n"
          ],
          "name": "stdout"
        },
        {
          "output_type": "execute_result",
          "data": {
            "text/plain": [
              "<tensorflow.python.keras.callbacks.History at 0x7f74305849d0>"
            ]
          },
          "metadata": {
            "tags": []
          },
          "execution_count": 44
        }
      ]
    },
    {
      "cell_type": "code",
      "metadata": {
        "colab": {
          "base_uri": "https://localhost:8080/"
        },
        "id": "5lE4sZifymb8",
        "outputId": "471c1a2a-a80c-4ac8-a643-a9d42e46102a"
      },
      "source": [
        "predicts = model.predict_classes(x_test)"
      ],
      "execution_count": 45,
      "outputs": [
        {
          "output_type": "stream",
          "text": [
            "/usr/local/lib/python3.7/dist-packages/tensorflow/python/keras/engine/sequential.py:450: UserWarning: `model.predict_classes()` is deprecated and will be removed after 2021-01-01. Please use instead:* `np.argmax(model.predict(x), axis=-1)`,   if your model does multi-class classification   (e.g. if it uses a `softmax` last-layer activation).* `(model.predict(x) > 0.5).astype(\"int32\")`,   if your model does binary classification   (e.g. if it uses a `sigmoid` last-layer activation).\n",
            "  warnings.warn('`model.predict_classes()` is deprecated and '\n"
          ],
          "name": "stderr"
        }
      ]
    },
    {
      "cell_type": "code",
      "metadata": {
        "id": "i66_daTfy4WI"
      },
      "source": [
        "from sklearn.metrics import accuracy_score"
      ],
      "execution_count": null,
      "outputs": []
    },
    {
      "cell_type": "code",
      "metadata": {
        "colab": {
          "base_uri": "https://localhost:8080/"
        },
        "id": "KFwbTrgRtwrM",
        "outputId": "903bdd80-efc2-4d63-97ef-dfcef681333f"
      },
      "source": [
        "score = accuracy_score(predicts, y_test)\n",
        "print('Test accuracy:', score)"
      ],
      "execution_count": 46,
      "outputs": [
        {
          "output_type": "stream",
          "text": [
            "Test accuracy: 0.6452\n"
          ],
          "name": "stdout"
        }
      ]
    },
    {
      "cell_type": "code",
      "metadata": {
        "id": "AXFJIvx-yUln"
      },
      "source": [
        ""
      ],
      "execution_count": null,
      "outputs": []
    }
  ]
}