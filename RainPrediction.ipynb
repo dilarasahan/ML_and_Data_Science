{
  "nbformat": 4,
  "nbformat_minor": 0,
  "metadata": {
    "colab": {
      "name": "RainPrediction",
      "provenance": [],
      "collapsed_sections": []
    },
    "kernelspec": {
      "name": "python3",
      "display_name": "Python 3"
    },
    "language_info": {
      "name": "python"
    }
  },
  "cells": [
    {
      "cell_type": "code",
      "metadata": {
        "id": "YSe9PMPLXm-9"
      },
      "source": [
        "import pandas as pd\n",
        "import numpy as np\n",
        "import matplotlib.pyplot as plt\n",
        "import seaborn as sns\n"
      ],
      "execution_count": null,
      "outputs": []
    },
    {
      "cell_type": "code",
      "metadata": {
        "id": "5Gjiqua85jEX"
      },
      "source": [
        "data = pd.read_csv('/content/weatherAUS.csv')\n"
      ],
      "execution_count": null,
      "outputs": []
    },
    {
      "cell_type": "code",
      "metadata": {
        "colab": {
          "base_uri": "https://localhost:8080/",
          "height": 299
        },
        "id": "zdqrO5ea5pmh",
        "outputId": "fdd2705b-c0f3-417c-e905-b05664662192"
      },
      "source": [
        "data.head()"
      ],
      "execution_count": null,
      "outputs": [
        {
          "output_type": "execute_result",
          "data": {
            "text/html": [
              "<div>\n",
              "<style scoped>\n",
              "    .dataframe tbody tr th:only-of-type {\n",
              "        vertical-align: middle;\n",
              "    }\n",
              "\n",
              "    .dataframe tbody tr th {\n",
              "        vertical-align: top;\n",
              "    }\n",
              "\n",
              "    .dataframe thead th {\n",
              "        text-align: right;\n",
              "    }\n",
              "</style>\n",
              "<table border=\"1\" class=\"dataframe\">\n",
              "  <thead>\n",
              "    <tr style=\"text-align: right;\">\n",
              "      <th></th>\n",
              "      <th>Date</th>\n",
              "      <th>Location</th>\n",
              "      <th>MinTemp</th>\n",
              "      <th>MaxTemp</th>\n",
              "      <th>Rainfall</th>\n",
              "      <th>Evaporation</th>\n",
              "      <th>Sunshine</th>\n",
              "      <th>WindGustDir</th>\n",
              "      <th>WindGustSpeed</th>\n",
              "      <th>WindDir9am</th>\n",
              "      <th>WindDir3pm</th>\n",
              "      <th>WindSpeed9am</th>\n",
              "      <th>WindSpeed3pm</th>\n",
              "      <th>Humidity9am</th>\n",
              "      <th>Humidity3pm</th>\n",
              "      <th>Pressure9am</th>\n",
              "      <th>Pressure3pm</th>\n",
              "      <th>Cloud9am</th>\n",
              "      <th>Cloud3pm</th>\n",
              "      <th>Temp9am</th>\n",
              "      <th>Temp3pm</th>\n",
              "      <th>RainToday</th>\n",
              "      <th>RainTomorrow</th>\n",
              "    </tr>\n",
              "  </thead>\n",
              "  <tbody>\n",
              "    <tr>\n",
              "      <th>0</th>\n",
              "      <td>2008-12-01</td>\n",
              "      <td>Albury</td>\n",
              "      <td>13.4</td>\n",
              "      <td>22.9</td>\n",
              "      <td>0.6</td>\n",
              "      <td>NaN</td>\n",
              "      <td>NaN</td>\n",
              "      <td>W</td>\n",
              "      <td>44.0</td>\n",
              "      <td>W</td>\n",
              "      <td>WNW</td>\n",
              "      <td>20.0</td>\n",
              "      <td>24.0</td>\n",
              "      <td>71.0</td>\n",
              "      <td>22.0</td>\n",
              "      <td>1007.7</td>\n",
              "      <td>1007.1</td>\n",
              "      <td>8.0</td>\n",
              "      <td>NaN</td>\n",
              "      <td>16.9</td>\n",
              "      <td>21.8</td>\n",
              "      <td>No</td>\n",
              "      <td>No</td>\n",
              "    </tr>\n",
              "    <tr>\n",
              "      <th>1</th>\n",
              "      <td>2008-12-02</td>\n",
              "      <td>Albury</td>\n",
              "      <td>7.4</td>\n",
              "      <td>25.1</td>\n",
              "      <td>0.0</td>\n",
              "      <td>NaN</td>\n",
              "      <td>NaN</td>\n",
              "      <td>WNW</td>\n",
              "      <td>44.0</td>\n",
              "      <td>NNW</td>\n",
              "      <td>WSW</td>\n",
              "      <td>4.0</td>\n",
              "      <td>22.0</td>\n",
              "      <td>44.0</td>\n",
              "      <td>25.0</td>\n",
              "      <td>1010.6</td>\n",
              "      <td>1007.8</td>\n",
              "      <td>NaN</td>\n",
              "      <td>NaN</td>\n",
              "      <td>17.2</td>\n",
              "      <td>24.3</td>\n",
              "      <td>No</td>\n",
              "      <td>No</td>\n",
              "    </tr>\n",
              "    <tr>\n",
              "      <th>2</th>\n",
              "      <td>2008-12-03</td>\n",
              "      <td>Albury</td>\n",
              "      <td>12.9</td>\n",
              "      <td>25.7</td>\n",
              "      <td>0.0</td>\n",
              "      <td>NaN</td>\n",
              "      <td>NaN</td>\n",
              "      <td>WSW</td>\n",
              "      <td>46.0</td>\n",
              "      <td>W</td>\n",
              "      <td>WSW</td>\n",
              "      <td>19.0</td>\n",
              "      <td>26.0</td>\n",
              "      <td>38.0</td>\n",
              "      <td>30.0</td>\n",
              "      <td>1007.6</td>\n",
              "      <td>1008.7</td>\n",
              "      <td>NaN</td>\n",
              "      <td>2.0</td>\n",
              "      <td>21.0</td>\n",
              "      <td>23.2</td>\n",
              "      <td>No</td>\n",
              "      <td>No</td>\n",
              "    </tr>\n",
              "    <tr>\n",
              "      <th>3</th>\n",
              "      <td>2008-12-04</td>\n",
              "      <td>Albury</td>\n",
              "      <td>9.2</td>\n",
              "      <td>28.0</td>\n",
              "      <td>0.0</td>\n",
              "      <td>NaN</td>\n",
              "      <td>NaN</td>\n",
              "      <td>NE</td>\n",
              "      <td>24.0</td>\n",
              "      <td>SE</td>\n",
              "      <td>E</td>\n",
              "      <td>11.0</td>\n",
              "      <td>9.0</td>\n",
              "      <td>45.0</td>\n",
              "      <td>16.0</td>\n",
              "      <td>1017.6</td>\n",
              "      <td>1012.8</td>\n",
              "      <td>NaN</td>\n",
              "      <td>NaN</td>\n",
              "      <td>18.1</td>\n",
              "      <td>26.5</td>\n",
              "      <td>No</td>\n",
              "      <td>No</td>\n",
              "    </tr>\n",
              "    <tr>\n",
              "      <th>4</th>\n",
              "      <td>2008-12-05</td>\n",
              "      <td>Albury</td>\n",
              "      <td>17.5</td>\n",
              "      <td>32.3</td>\n",
              "      <td>1.0</td>\n",
              "      <td>NaN</td>\n",
              "      <td>NaN</td>\n",
              "      <td>W</td>\n",
              "      <td>41.0</td>\n",
              "      <td>ENE</td>\n",
              "      <td>NW</td>\n",
              "      <td>7.0</td>\n",
              "      <td>20.0</td>\n",
              "      <td>82.0</td>\n",
              "      <td>33.0</td>\n",
              "      <td>1010.8</td>\n",
              "      <td>1006.0</td>\n",
              "      <td>7.0</td>\n",
              "      <td>8.0</td>\n",
              "      <td>17.8</td>\n",
              "      <td>29.7</td>\n",
              "      <td>No</td>\n",
              "      <td>No</td>\n",
              "    </tr>\n",
              "  </tbody>\n",
              "</table>\n",
              "</div>"
            ],
            "text/plain": [
              "         Date Location  MinTemp  ...  Temp3pm  RainToday  RainTomorrow\n",
              "0  2008-12-01   Albury     13.4  ...     21.8         No            No\n",
              "1  2008-12-02   Albury      7.4  ...     24.3         No            No\n",
              "2  2008-12-03   Albury     12.9  ...     23.2         No            No\n",
              "3  2008-12-04   Albury      9.2  ...     26.5         No            No\n",
              "4  2008-12-05   Albury     17.5  ...     29.7         No            No\n",
              "\n",
              "[5 rows x 23 columns]"
            ]
          },
          "metadata": {
            "tags": []
          },
          "execution_count": 3
        }
      ]
    },
    {
      "cell_type": "code",
      "metadata": {
        "colab": {
          "base_uri": "https://localhost:8080/"
        },
        "id": "hTCAj45Z5qqn",
        "outputId": "6e303a24-0f39-41ae-9d7d-b65c79728d66"
      },
      "source": [
        "data.shape"
      ],
      "execution_count": null,
      "outputs": [
        {
          "output_type": "execute_result",
          "data": {
            "text/plain": [
              "(86877, 23)"
            ]
          },
          "metadata": {
            "tags": []
          },
          "execution_count": 5
        }
      ]
    },
    {
      "cell_type": "code",
      "metadata": {
        "colab": {
          "base_uri": "https://localhost:8080/"
        },
        "id": "rkqPN2Ny7vLA",
        "outputId": "2866dd1f-62d3-470a-97af-e00a6faba99d"
      },
      "source": [
        "data.info()"
      ],
      "execution_count": null,
      "outputs": [
        {
          "output_type": "stream",
          "text": [
            "<class 'pandas.core.frame.DataFrame'>\n",
            "Int64Index: 80678 entries, 0 to 86876\n",
            "Data columns (total 21 columns):\n",
            " #   Column         Non-Null Count  Dtype  \n",
            "---  ------         --------------  -----  \n",
            " 0   Date           80678 non-null  object \n",
            " 1   Location       80678 non-null  object \n",
            " 2   MinTemp        80678 non-null  float64\n",
            " 3   MaxTemp        80678 non-null  float64\n",
            " 4   Rainfall       80678 non-null  float64\n",
            " 5   WindGustDir    80678 non-null  object \n",
            " 6   WindGustSpeed  80678 non-null  float64\n",
            " 7   WindDir9am     80678 non-null  object \n",
            " 8   WindDir3pm     80678 non-null  object \n",
            " 9   WindSpeed9am   80678 non-null  float64\n",
            " 10  WindSpeed3pm   80678 non-null  float64\n",
            " 11  Humidity9am    80678 non-null  float64\n",
            " 12  Humidity3pm    80678 non-null  float64\n",
            " 13  Pressure9am    80678 non-null  float64\n",
            " 14  Pressure3pm    80678 non-null  float64\n",
            " 15  Cloud9am       80678 non-null  float64\n",
            " 16  Cloud3pm       80678 non-null  float64\n",
            " 17  Temp9am        80678 non-null  float64\n",
            " 18  Temp3pm        80678 non-null  float64\n",
            " 19  RainToday      80678 non-null  object \n",
            " 20  RainTomorrow   80678 non-null  object \n",
            "dtypes: float64(14), object(7)\n",
            "memory usage: 16.0+ MB\n"
          ],
          "name": "stdout"
        }
      ]
    },
    {
      "cell_type": "markdown",
      "metadata": {
        "id": "P_KpvSgpFHj8"
      },
      "source": [
        "#NAN değerleri doldurma/silme"
      ]
    },
    {
      "cell_type": "code",
      "metadata": {
        "id": "LnGNcSQR8TP2"
      },
      "source": [
        "data.drop(['Evaporation','Sunshine'], axis =1, inplace = True)"
      ],
      "execution_count": null,
      "outputs": []
    },
    {
      "cell_type": "code",
      "metadata": {
        "id": "skuko_qW8w2-"
      },
      "source": [
        "data.isna().sum()"
      ],
      "execution_count": null,
      "outputs": []
    },
    {
      "cell_type": "code",
      "metadata": {
        "id": "j9mTBIQWBIzY"
      },
      "source": [
        "objectcols = ['WindGustDir','WindDir9am','WindDir3pm']\n",
        "numcols = ['Cloud9am','Cloud3pm','WindGustSpeed','Pressure9am','Pressure3pm']\n",
        "drop_nan_columns = ['MinTemp','MaxTemp','Rainfall','WindSpeed9am','WindSpeed3pm','Humidity9am','Humidity3pm','Temp9am','Temp3pm','RainToday','RainTomorrow']"
      ],
      "execution_count": null,
      "outputs": []
    },
    {
      "cell_type": "code",
      "metadata": {
        "id": "NmYgsaj_C8gs"
      },
      "source": [
        "data.dropna(subset = drop_nan_columns , inplace = True)"
      ],
      "execution_count": null,
      "outputs": []
    },
    {
      "cell_type": "code",
      "metadata": {
        "id": "ZusQWjrI-sp2"
      },
      "source": [
        "for columns in objectcols :\n",
        "  data[columns].fillna(data[columns].mode()[0], inplace=True)"
      ],
      "execution_count": null,
      "outputs": []
    },
    {
      "cell_type": "code",
      "metadata": {
        "id": "ttsJOb-eBJs-"
      },
      "source": [
        "for columns in numcols :\n",
        "  data[columns].fillna(data[columns].mean(),inplace= True)"
      ],
      "execution_count": null,
      "outputs": []
    },
    {
      "cell_type": "markdown",
      "metadata": {
        "id": "gvqoAcj-GF4c"
      },
      "source": [
        "#Visualization"
      ]
    },
    {
      "cell_type": "code",
      "metadata": {
        "colab": {
          "base_uri": "https://localhost:8080/",
          "height": 280
        },
        "id": "ilWS9KyxBJT0",
        "outputId": "de2f7ac6-badf-4137-ddff-d320fa9f8988"
      },
      "source": [
        "data_vis = data.loc[:][:10000]\n",
        "sns.barplot(data = data_vis, x = 'Location', y = 'Humidity9am')\n",
        "plt.show()"
      ],
      "execution_count": null,
      "outputs": [
        {
          "output_type": "display_data",
          "data": {
            "image/png": "[encoded data removed]",
            "text/plain": [
              "<Figure size 432x288 with 1 Axes>"
            ]
          },
          "metadata": {
            "tags": [],
            "needs_background": "light"
          }
        }
      ]
    },
    {
      "cell_type": "code",
      "metadata": {
        "colab": {
          "base_uri": "https://localhost:8080/"
        },
        "id": "tL4EdwOCRRDu",
        "outputId": "d5e766e2-dc59-4f6e-d642-0d6c287c2be6"
      },
      "source": [
        "data['WindGustDir'].unique()"
      ],
      "execution_count": null,
      "outputs": [
        {
          "output_type": "execute_result",
          "data": {
            "text/plain": [
              "array(['W', 'WNW', 'WSW', 'NE', 'NNW', 'N', 'NNE', 'SW', 'ENE', 'SSE',\n",
              "       'S', 'NW', 'SE', 'ESE', 'E', 'SSW'], dtype=object)"
            ]
          },
          "metadata": {
            "tags": []
          },
          "execution_count": 77
        }
      ]
    },
    {
      "cell_type": "code",
      "metadata": {
        "id": "Y4wmc-bXRoef"
      },
      "source": [
        "data.drop('Date', axis =1, inplace = True)"
      ],
      "execution_count": null,
      "outputs": []
    },
    {
      "cell_type": "markdown",
      "metadata": {
        "id": "SBHcTpkbQlcf"
      },
      "source": [
        "#Encode-Normalization"
      ]
    },
    {
      "cell_type": "code",
      "metadata": {
        "id": "DGTB3ONXQlLh"
      },
      "source": [
        "from sklearn.preprocessing import LabelEncoder, MinMaxScaler\n",
        "le = LabelEncoder()"
      ],
      "execution_count": null,
      "outputs": []
    },
    {
      "cell_type": "code",
      "metadata": {
        "id": "Uea6mb0NES6F"
      },
      "source": [
        "object_encode_columns = ['WindGustDir','Location','WindDir9am','WindDir3pm','RainToday']"
      ],
      "execution_count": null,
      "outputs": []
    },
    {
      "cell_type": "code",
      "metadata": {
        "id": "eRSdskqkJw5k"
      },
      "source": [
        "for columns in object_encode_columns :\n",
        "  data[columns] = le.fit_transform(data[columns])"
      ],
      "execution_count": null,
      "outputs": []
    },
    {
      "cell_type": "code",
      "metadata": {
        "id": "zGK9EhHQSQic"
      },
      "source": [
        "numcols_normalization = ['Cloud9am','Cloud3pm','WindGustSpeed','Pressure9am','Pressure3pm','MinTemp','MaxTemp','Rainfall','WindSpeed9am','WindSpeed3pm'\n",
        ",'Humidity9am','Humidity3pm','Temp9am','Temp3pm']\n"
      ],
      "execution_count": null,
      "outputs": []
    },
    {
      "cell_type": "code",
      "metadata": {
        "id": "ekv_2UH5ULTa"
      },
      "source": [
        "data['RainTomorrow'] = [0 if i  == 'No' else 1 for i in data['RainTomorrow']]"
      ],
      "execution_count": null,
      "outputs": []
    },
    {
      "cell_type": "code",
      "metadata": {
        "id": "KzRYJVybOlHJ"
      },
      "source": [
        "for column in numcols_normalization:\n",
        "   scaler = MinMaxScaler()\n",
        "   data[column]= scaler.fit_transform(data[column].values.reshape(-1,1))"
      ],
      "execution_count": null,
      "outputs": []
    },
    {
      "cell_type": "code",
      "metadata": {
        "colab": {
          "base_uri": "https://localhost:8080/",
          "height": 215
        },
        "id": "PWlKmNyoTt_r",
        "outputId": "e724ca03-582b-4c8a-c682-46bd40926e10"
      },
      "source": [
        "data.head()"
      ],
      "execution_count": null,
      "outputs": [
        {
          "output_type": "execute_result",
          "data": {
            "text/html": [
              "<div>\n",
              "<style scoped>\n",
              "    .dataframe tbody tr th:only-of-type {\n",
              "        vertical-align: middle;\n",
              "    }\n",
              "\n",
              "    .dataframe tbody tr th {\n",
              "        vertical-align: top;\n",
              "    }\n",
              "\n",
              "    .dataframe thead th {\n",
              "        text-align: right;\n",
              "    }\n",
              "</style>\n",
              "<table border=\"1\" class=\"dataframe\">\n",
              "  <thead>\n",
              "    <tr style=\"text-align: right;\">\n",
              "      <th></th>\n",
              "      <th>Location</th>\n",
              "      <th>MinTemp</th>\n",
              "      <th>MaxTemp</th>\n",
              "      <th>Rainfall</th>\n",
              "      <th>WindGustDir</th>\n",
              "      <th>WindGustSpeed</th>\n",
              "      <th>WindDir9am</th>\n",
              "      <th>WindDir3pm</th>\n",
              "      <th>WindSpeed9am</th>\n",
              "      <th>WindSpeed3pm</th>\n",
              "      <th>Humidity9am</th>\n",
              "      <th>Humidity3pm</th>\n",
              "      <th>Pressure9am</th>\n",
              "      <th>Pressure3pm</th>\n",
              "      <th>Cloud9am</th>\n",
              "      <th>Cloud3pm</th>\n",
              "      <th>Temp9am</th>\n",
              "      <th>Temp3pm</th>\n",
              "      <th>RainToday</th>\n",
              "      <th>RainTomorrow</th>\n",
              "    </tr>\n",
              "  </thead>\n",
              "  <tbody>\n",
              "    <tr>\n",
              "      <th>0</th>\n",
              "      <td>0</td>\n",
              "      <td>0.542079</td>\n",
              "      <td>0.531670</td>\n",
              "      <td>0.001617</td>\n",
              "      <td>13</td>\n",
              "      <td>0.289062</td>\n",
              "      <td>13</td>\n",
              "      <td>14</td>\n",
              "      <td>0.229885</td>\n",
              "      <td>0.289157</td>\n",
              "      <td>0.701031</td>\n",
              "      <td>0.212121</td>\n",
              "      <td>0.452579</td>\n",
              "      <td>0.477080</td>\n",
              "      <td>0.888889</td>\n",
              "      <td>0.592086</td>\n",
              "      <td>0.536748</td>\n",
              "      <td>0.522073</td>\n",
              "      <td>0</td>\n",
              "      <td>0</td>\n",
              "    </tr>\n",
              "    <tr>\n",
              "      <th>1</th>\n",
              "      <td>0</td>\n",
              "      <td>0.393564</td>\n",
              "      <td>0.573896</td>\n",
              "      <td>0.000000</td>\n",
              "      <td>14</td>\n",
              "      <td>0.289062</td>\n",
              "      <td>6</td>\n",
              "      <td>15</td>\n",
              "      <td>0.045977</td>\n",
              "      <td>0.265060</td>\n",
              "      <td>0.422680</td>\n",
              "      <td>0.242424</td>\n",
              "      <td>0.500832</td>\n",
              "      <td>0.488964</td>\n",
              "      <td>0.519562</td>\n",
              "      <td>0.592086</td>\n",
              "      <td>0.543430</td>\n",
              "      <td>0.570058</td>\n",
              "      <td>0</td>\n",
              "      <td>0</td>\n",
              "    </tr>\n",
              "    <tr>\n",
              "      <th>2</th>\n",
              "      <td>0</td>\n",
              "      <td>0.529703</td>\n",
              "      <td>0.585413</td>\n",
              "      <td>0.000000</td>\n",
              "      <td>15</td>\n",
              "      <td>0.304688</td>\n",
              "      <td>13</td>\n",
              "      <td>15</td>\n",
              "      <td>0.218391</td>\n",
              "      <td>0.313253</td>\n",
              "      <td>0.360825</td>\n",
              "      <td>0.292929</td>\n",
              "      <td>0.450915</td>\n",
              "      <td>0.504244</td>\n",
              "      <td>0.519562</td>\n",
              "      <td>0.250000</td>\n",
              "      <td>0.628062</td>\n",
              "      <td>0.548944</td>\n",
              "      <td>0</td>\n",
              "      <td>0</td>\n",
              "    </tr>\n",
              "    <tr>\n",
              "      <th>3</th>\n",
              "      <td>0</td>\n",
              "      <td>0.438119</td>\n",
              "      <td>0.629559</td>\n",
              "      <td>0.000000</td>\n",
              "      <td>4</td>\n",
              "      <td>0.132812</td>\n",
              "      <td>9</td>\n",
              "      <td>0</td>\n",
              "      <td>0.126437</td>\n",
              "      <td>0.108434</td>\n",
              "      <td>0.432990</td>\n",
              "      <td>0.151515</td>\n",
              "      <td>0.617304</td>\n",
              "      <td>0.573854</td>\n",
              "      <td>0.519562</td>\n",
              "      <td>0.592086</td>\n",
              "      <td>0.563474</td>\n",
              "      <td>0.612284</td>\n",
              "      <td>0</td>\n",
              "      <td>0</td>\n",
              "    </tr>\n",
              "    <tr>\n",
              "      <th>4</th>\n",
              "      <td>0</td>\n",
              "      <td>0.643564</td>\n",
              "      <td>0.712092</td>\n",
              "      <td>0.002695</td>\n",
              "      <td>13</td>\n",
              "      <td>0.265625</td>\n",
              "      <td>1</td>\n",
              "      <td>7</td>\n",
              "      <td>0.080460</td>\n",
              "      <td>0.240964</td>\n",
              "      <td>0.814433</td>\n",
              "      <td>0.323232</td>\n",
              "      <td>0.504160</td>\n",
              "      <td>0.458404</td>\n",
              "      <td>0.777778</td>\n",
              "      <td>1.000000</td>\n",
              "      <td>0.556793</td>\n",
              "      <td>0.673704</td>\n",
              "      <td>0</td>\n",
              "      <td>0</td>\n",
              "    </tr>\n",
              "  </tbody>\n",
              "</table>\n",
              "</div>"
            ],
            "text/plain": [
              "   Location   MinTemp   MaxTemp  ...   Temp3pm  RainToday  RainTomorrow\n",
              "0         0  0.542079  0.531670  ...  0.522073          0             0\n",
              "1         0  0.393564  0.573896  ...  0.570058          0             0\n",
              "2         0  0.529703  0.585413  ...  0.548944          0             0\n",
              "3         0  0.438119  0.629559  ...  0.612284          0             0\n",
              "4         0  0.643564  0.712092  ...  0.673704          0             0\n",
              "\n",
              "[5 rows x 20 columns]"
            ]
          },
          "metadata": {
            "tags": []
          },
          "execution_count": 90
        }
      ]
    },
    {
      "cell_type": "markdown",
      "metadata": {
        "id": "kD65rKRVTpNk"
      },
      "source": [
        "#Model"
      ]
    },
    {
      "cell_type": "code",
      "metadata": {
        "id": "_PkbDtFzTXP5"
      },
      "source": [
        "import keras\n",
        "from keras.wrappers.scikit_learn import KerasClassifier"
      ],
      "execution_count": null,
      "outputs": []
    },
    {
      "cell_type": "code",
      "metadata": {
        "id": "tqRVg0gfVSMV"
      },
      "source": [
        "from keras.models import Sequential\n",
        "from keras.layers import Dense"
      ],
      "execution_count": null,
      "outputs": []
    },
    {
      "cell_type": "code",
      "metadata": {
        "id": "ybZ8lyXwX0b5"
      },
      "source": [
        "X = data.drop('RainTomorrow', axis = 1).values\n",
        "y = data['RainTomorrow'].values\n",
        "\n",
        "from sklearn.model_selection import train_test_split\n",
        "\n",
        "X_train, X_test , Y_train , Y_test = train_test_split(X,y, test_size = 0.3 , random_state = 42)"
      ],
      "execution_count": null,
      "outputs": []
    },
    {
      "cell_type": "code",
      "metadata": {
        "id": "aq27QzOYWzT5"
      },
      "source": [
        "model = Sequential()"
      ],
      "execution_count": null,
      "outputs": []
    },
    {
      "cell_type": "code",
      "metadata": {
        "id": "p9aAnqulW2-A"
      },
      "source": [
        "model.add(Dense(units = 8,activation= 'relu'))\n",
        "model.add(Dense(units= 4, activation= 'relu'))\n",
        "model.add(Dense(units=1, activation='sigmoid'))\n",
        "model.compile(optimizer = 'adam',loss = 'binary_crossentropy', metrics = ['accuracy'])"
      ],
      "execution_count": null,
      "outputs": []
    },
    {
      "cell_type": "code",
      "metadata": {
        "colab": {
          "base_uri": "https://localhost:8080/"
        },
        "id": "Gaa6EipQcT6y",
        "outputId": "b2e363b7-c622-4817-af81-cd01ab5d85c4"
      },
      "source": [
        "model.fit(X_train,Y_train, epochs = 50)"
      ],
      "execution_count": null,
      "outputs": [
        {
          "output_type": "stream",
          "text": [
            "Epoch 1/50\n",
            "1765/1765 [==============================] - 4s 2ms/step - loss: 0.5809 - accuracy: 0.7306\n",
            "Epoch 2/50\n",
            "1765/1765 [==============================] - 3s 2ms/step - loss: 0.5368 - accuracy: 0.7723\n",
            "Epoch 3/50\n",
            "1765/1765 [==============================] - 3s 2ms/step - loss: 0.5325 - accuracy: 0.7757\n",
            "Epoch 4/50\n",
            "1765/1765 [==============================] - 3s 2ms/step - loss: 0.5363 - accuracy: 0.7725\n",
            "Epoch 5/50\n",
            "1765/1765 [==============================] - 3s 2ms/step - loss: 0.5338 - accuracy: 0.7746\n",
            "Epoch 6/50\n",
            "1765/1765 [==============================] - 3s 2ms/step - loss: 0.5294 - accuracy: 0.7782\n",
            "Epoch 7/50\n",
            "1765/1765 [==============================] - 3s 2ms/step - loss: 0.5313 - accuracy: 0.7766\n",
            "Epoch 8/50\n",
            "1765/1765 [==============================] - 3s 2ms/step - loss: 0.5337 - accuracy: 0.7747\n",
            "Epoch 9/50\n",
            "1765/1765 [==============================] - 3s 2ms/step - loss: 0.5344 - accuracy: 0.7742\n",
            "Epoch 10/50\n",
            "1765/1765 [==============================] - 3s 2ms/step - loss: 0.5328 - accuracy: 0.7754\n",
            "Epoch 11/50\n",
            "1765/1765 [==============================] - 3s 2ms/step - loss: 0.5352 - accuracy: 0.7734\n",
            "Epoch 12/50\n",
            "1765/1765 [==============================] - 3s 2ms/step - loss: 0.5334 - accuracy: 0.7750\n",
            "Epoch 13/50\n",
            "1765/1765 [==============================] - 3s 2ms/step - loss: 0.5366 - accuracy: 0.7723\n",
            "Epoch 14/50\n",
            "1765/1765 [==============================] - 3s 2ms/step - loss: 0.5325 - accuracy: 0.7757\n",
            "Epoch 15/50\n",
            "1765/1765 [==============================] - 3s 2ms/step - loss: 0.5298 - accuracy: 0.7777\n",
            "Epoch 16/50\n",
            "1765/1765 [==============================] - 3s 2ms/step - loss: 0.5354 - accuracy: 0.7733\n",
            "Epoch 17/50\n",
            "1765/1765 [==============================] - 3s 2ms/step - loss: 0.5328 - accuracy: 0.7754\n",
            "Epoch 18/50\n",
            "1765/1765 [==============================] - 3s 2ms/step - loss: 0.5378 - accuracy: 0.7713\n",
            "Epoch 19/50\n",
            "1765/1765 [==============================] - 3s 2ms/step - loss: 0.5305 - accuracy: 0.7772\n",
            "Epoch 20/50\n",
            "1765/1765 [==============================] - 3s 2ms/step - loss: 0.5341 - accuracy: 0.7744\n",
            "Epoch 21/50\n",
            "1765/1765 [==============================] - 3s 2ms/step - loss: 0.5387 - accuracy: 0.7707\n",
            "Epoch 22/50\n",
            "1765/1765 [==============================] - 3s 2ms/step - loss: 0.5342 - accuracy: 0.7742\n",
            "Epoch 23/50\n",
            "1765/1765 [==============================] - 3s 2ms/step - loss: 0.5347 - accuracy: 0.7739\n",
            "Epoch 24/50\n",
            "1765/1765 [==============================] - 3s 2ms/step - loss: 0.5318 - accuracy: 0.7762\n",
            "Epoch 25/50\n",
            "1765/1765 [==============================] - 3s 2ms/step - loss: 0.5301 - accuracy: 0.7776\n",
            "Epoch 26/50\n",
            "1765/1765 [==============================] - 3s 2ms/step - loss: 0.5328 - accuracy: 0.7754\n",
            "Epoch 27/50\n",
            "1765/1765 [==============================] - 3s 2ms/step - loss: 0.5348 - accuracy: 0.7738\n",
            "Epoch 28/50\n",
            "1765/1765 [==============================] - 3s 2ms/step - loss: 0.5308 - accuracy: 0.7771\n",
            "Epoch 29/50\n",
            "1765/1765 [==============================] - 3s 2ms/step - loss: 0.5355 - accuracy: 0.7732\n",
            "Epoch 30/50\n",
            "1765/1765 [==============================] - 3s 2ms/step - loss: 0.5297 - accuracy: 0.7778\n",
            "Epoch 31/50\n",
            "1765/1765 [==============================] - 3s 2ms/step - loss: 0.5339 - accuracy: 0.7745\n",
            "Epoch 32/50\n",
            "1765/1765 [==============================] - 3s 2ms/step - loss: 0.5361 - accuracy: 0.7727\n",
            "Epoch 33/50\n",
            "1765/1765 [==============================] - 3s 2ms/step - loss: 0.5310 - accuracy: 0.7768\n",
            "Epoch 34/50\n",
            "1765/1765 [==============================] - 3s 2ms/step - loss: 0.5326 - accuracy: 0.7755\n",
            "Epoch 35/50\n",
            "1765/1765 [==============================] - 3s 2ms/step - loss: 0.5327 - accuracy: 0.7755\n",
            "Epoch 36/50\n",
            "1765/1765 [==============================] - 3s 2ms/step - loss: 0.5314 - accuracy: 0.7765\n",
            "Epoch 37/50\n",
            "1765/1765 [==============================] - 3s 2ms/step - loss: 0.5321 - accuracy: 0.7759\n",
            "Epoch 38/50\n",
            "1765/1765 [==============================] - 3s 2ms/step - loss: 0.5319 - accuracy: 0.7762\n",
            "Epoch 39/50\n",
            "1765/1765 [==============================] - 3s 2ms/step - loss: 0.5357 - accuracy: 0.7730\n",
            "Epoch 40/50\n",
            "1765/1765 [==============================] - 3s 2ms/step - loss: 0.5344 - accuracy: 0.7741\n",
            "Epoch 41/50\n",
            "1765/1765 [==============================] - 3s 2ms/step - loss: 0.5309 - accuracy: 0.7768\n",
            "Epoch 42/50\n",
            "1765/1765 [==============================] - 3s 2ms/step - loss: 0.5327 - accuracy: 0.7755\n",
            "Epoch 43/50\n",
            "1765/1765 [==============================] - 3s 2ms/step - loss: 0.5336 - accuracy: 0.7747\n",
            "Epoch 44/50\n",
            "1765/1765 [==============================] - 3s 2ms/step - loss: 0.5343 - accuracy: 0.7742\n",
            "Epoch 45/50\n",
            "1765/1765 [==============================] - 3s 2ms/step - loss: 0.5328 - accuracy: 0.7754\n",
            "Epoch 46/50\n",
            "1765/1765 [==============================] - 3s 2ms/step - loss: 0.5356 - accuracy: 0.7731\n",
            "Epoch 47/50\n",
            "1765/1765 [==============================] - 3s 2ms/step - loss: 0.5333 - accuracy: 0.7750\n",
            "Epoch 48/50\n",
            "1765/1765 [==============================] - 3s 2ms/step - loss: 0.5326 - accuracy: 0.7756\n",
            "Epoch 49/50\n",
            "1765/1765 [==============================] - 3s 2ms/step - loss: 0.5342 - accuracy: 0.7742\n",
            "Epoch 50/50\n",
            "1765/1765 [==============================] - 3s 2ms/step - loss: 0.5315 - accuracy: 0.7765\n"
          ],
          "name": "stdout"
        },
        {
          "output_type": "execute_result",
          "data": {
            "text/plain": [
              "<tensorflow.python.keras.callbacks.History at 0x7f617e652dd0>"
            ]
          },
          "metadata": {
            "tags": []
          },
          "execution_count": 104
        }
      ]
    },
    {
      "cell_type": "code",
      "metadata": {
        "colab": {
          "base_uri": "https://localhost:8080/"
        },
        "id": "SO__ys20cdT4",
        "outputId": "1fa66545-2593-4b23-cfc0-5581c386b0fd"
      },
      "source": [
        "from sklearn.metrics import accuracy_score\n",
        "y_pred = model.predict_classes(X_test)\n",
        "print(accuracy_score(Y_test,y_pred))"
      ],
      "execution_count": null,
      "outputs": [
        {
          "output_type": "stream",
          "text": [
            "/usr/local/lib/python3.7/dist-packages/tensorflow/python/keras/engine/sequential.py:450: UserWarning: `model.predict_classes()` is deprecated and will be removed after 2021-01-01. Please use instead:* `np.argmax(model.predict(x), axis=-1)`,   if your model does multi-class classification   (e.g. if it uses a `softmax` last-layer activation).* `(model.predict(x) > 0.5).astype(\"int32\")`,   if your model does binary classification   (e.g. if it uses a `sigmoid` last-layer activation).\n",
            "  warnings.warn('`model.predict_classes()` is deprecated and '\n"
          ],
          "name": "stderr"
        },
        {
          "output_type": "stream",
          "text": [
            "0.7783837382250868\n"
          ],
          "name": "stdout"
        }
      ]
    },
    {
      "cell_type": "code",
      "metadata": {
        "id": "L4fezQpOidy4"
      },
      "source": [
        ""
      ],
      "execution_count": null,
      "outputs": []
    }
  ]
}